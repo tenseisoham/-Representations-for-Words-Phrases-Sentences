{
  "cells": [
    {
      "cell_type": "code",
      "execution_count": 1,
      "metadata": {
        "id": "oquiOZ8KA9Pq"
      },
      "outputs": [],
      "source": [
        "import pandas as pd\n",
        "\n",
        "splits = {'train': 'labeled_final/train-00000-of-00001.parquet', 'test': 'labeled_final/test-00000-of-00001.parquet', 'validation': 'labeled_final/validation-00000-of-00001.parquet'}\n"
      ]
    },
    {
      "cell_type": "code",
      "execution_count": 2,
      "metadata": {
        "colab": {
          "base_uri": "https://localhost:8080/"
        },
        "id": "vss9xc3UBVGI",
        "outputId": "302bfa16-44d0-49f7-f804-a7833e9335f3"
      },
      "outputs": [
        {
          "name": "stderr",
          "output_type": "stream",
          "text": [
            "/usr/local/lib/python3.10/dist-packages/huggingface_hub/utils/_auth.py:94: UserWarning: \n",
            "The secret `HF_TOKEN` does not exist in your Colab secrets.\n",
            "To authenticate with the Hugging Face Hub, create a token in your settings tab (https://huggingface.co/settings/tokens), set it as secret in your Google Colab and restart your session.\n",
            "You will be able to reuse this secret in all of your notebooks.\n",
            "Please note that authentication is recommended but still optional to access public models or datasets.\n",
            "  warnings.warn(\n"
          ]
        }
      ],
      "source": [
        "df = pd.read_parquet(\"hf://datasets/google-research-datasets/paws/\" + splits[\"train\"])\n",
        "df_test = pd.read_parquet(\"hf://datasets/google-research-datasets/paws/\" + splits[\"test\"])"
      ]
    },
    {
      "cell_type": "code",
      "execution_count": 3,
      "metadata": {
        "colab": {
          "base_uri": "https://localhost:8080/"
        },
        "id": "QfLRrVK8BtGF",
        "outputId": "218cdb58-9db6-403a-dc87-ea1e20045b1c"
      },
      "outputs": [
        {
          "name": "stdout",
          "output_type": "stream",
          "text": [
            "      id                                          sentence1  \\\n",
            "0  42637  The Nelson River flows from Lake Winnipeg to P...   \n",
            "1  10132  On 13 October 2010 , the Atlanta Braves announ...   \n",
            "2  44443  The localized versions of subsequent games use...   \n",
            "3  22636  Lord Stair married Emily Mary Julia Stonor , d...   \n",
            "4  29404  Proteins that form stable complexes with bindi...   \n",
            "\n",
            "                                           sentence2  label  \n",
            "0  The Nelson River flows into Playgreen Lake fro...      1  \n",
            "1  On October 13 , 2010 , the Atlanta Braves anno...      0  \n",
            "2  The localized versions of subsequent games use...      1  \n",
            "3  In 2006 , Lord Stair married Elizabeth Mary Hy...      0  \n",
            "4  Proteins that form stable complexes with bindi...      1  \n",
            "label\n",
            "1    1500\n",
            "0    1500\n",
            "Name: count, dtype: int64\n"
          ]
        }
      ],
      "source": [
        "df_0 = df[df['label'] == 0].sample(n=1500, random_state=42)\n",
        "df_1 = df[df['label'] == 1].sample(n=1500, random_state=42)\n",
        "\n",
        "sentence_df = pd.concat([df_0, df_1]).sample(frac=1, random_state=42).reset_index(drop=True)\n",
        "print(sentence_df.head())\n",
        "print(sentence_df['label'].value_counts())\n"
      ]
    },
    {
      "cell_type": "code",
      "execution_count": 14,
      "metadata": {
        "colab": {
          "base_uri": "https://localhost:8080/"
        },
        "id": "9n96yX-yGY4K",
        "outputId": "0819509e-c8e2-4b68-fd40-1589932ac45a"
      },
      "outputs": [
        {
          "name": "stdout",
          "output_type": "stream",
          "text": [
            "Requirement already satisfied: transformers in /usr/local/lib/python3.10/dist-packages (4.47.1)\n",
            "Requirement already satisfied: torch in /usr/local/lib/python3.10/dist-packages (2.5.1+cu121)\n",
            "Requirement already satisfied: torchvision in /usr/local/lib/python3.10/dist-packages (0.20.1+cu121)\n",
            "Requirement already satisfied: filelock in /usr/local/lib/python3.10/dist-packages (from transformers) (3.16.1)\n",
            "Requirement already satisfied: huggingface-hub<1.0,>=0.24.0 in /usr/local/lib/python3.10/dist-packages (from transformers) (0.27.0)\n",
            "Requirement already satisfied: numpy>=1.17 in /usr/local/lib/python3.10/dist-packages (from transformers) (1.26.4)\n",
            "Requirement already satisfied: packaging>=20.0 in /usr/local/lib/python3.10/dist-packages (from transformers) (24.2)\n",
            "Requirement already satisfied: pyyaml>=5.1 in /usr/local/lib/python3.10/dist-packages (from transformers) (6.0.2)\n",
            "Requirement already satisfied: regex!=2019.12.17 in /usr/local/lib/python3.10/dist-packages (from transformers) (2024.11.6)\n",
            "Requirement already satisfied: requests in /usr/local/lib/python3.10/dist-packages (from transformers) (2.32.3)\n",
            "Requirement already satisfied: tokenizers<0.22,>=0.21 in /usr/local/lib/python3.10/dist-packages (from transformers) (0.21.0)\n",
            "Requirement already satisfied: safetensors>=0.4.1 in /usr/local/lib/python3.10/dist-packages (from transformers) (0.4.5)\n",
            "Requirement already satisfied: tqdm>=4.27 in /usr/local/lib/python3.10/dist-packages (from transformers) (4.67.1)\n",
            "Requirement already satisfied: typing-extensions>=4.8.0 in /usr/local/lib/python3.10/dist-packages (from torch) (4.12.2)\n",
            "Requirement already satisfied: networkx in /usr/local/lib/python3.10/dist-packages (from torch) (3.4.2)\n",
            "Requirement already satisfied: jinja2 in /usr/local/lib/python3.10/dist-packages (from torch) (3.1.4)\n",
            "Requirement already satisfied: fsspec in /usr/local/lib/python3.10/dist-packages (from torch) (2024.10.0)\n",
            "Requirement already satisfied: sympy==1.13.1 in /usr/local/lib/python3.10/dist-packages (from torch) (1.13.1)\n",
            "Requirement already satisfied: mpmath<1.4,>=1.1.0 in /usr/local/lib/python3.10/dist-packages (from sympy==1.13.1->torch) (1.3.0)\n",
            "Requirement already satisfied: pillow!=8.3.*,>=5.3.0 in /usr/local/lib/python3.10/dist-packages (from torchvision) (11.0.0)\n",
            "Requirement already satisfied: MarkupSafe>=2.0 in /usr/local/lib/python3.10/dist-packages (from jinja2->torch) (3.0.2)\n",
            "Requirement already satisfied: charset-normalizer<4,>=2 in /usr/local/lib/python3.10/dist-packages (from requests->transformers) (3.4.0)\n",
            "Requirement already satisfied: idna<4,>=2.5 in /usr/local/lib/python3.10/dist-packages (from requests->transformers) (3.10)\n",
            "Requirement already satisfied: urllib3<3,>=1.21.1 in /usr/local/lib/python3.10/dist-packages (from requests->transformers) (2.2.3)\n",
            "Requirement already satisfied: certifi>=2017.4.17 in /usr/local/lib/python3.10/dist-packages (from requests->transformers) (2024.12.14)\n",
            "Using device: cuda\n"
          ]
        }
      ],
      "source": [
        "# Install necessary libraries\n",
        "!pip install transformers torch torchvision\n",
        "\n",
        "import torch\n",
        "import torch.nn as nn\n",
        "from torch.utils.data import DataLoader, Dataset\n",
        "from transformers import DistilBertTokenizer, DistilBertModel\n",
        "import pandas as pd\n",
        "\n",
        "device = torch.device(\"cuda\" if torch.cuda.is_available() else \"cpu\")\n",
        "print(f\"Using device: {device}\")\n",
        "\n",
        "class SentenceDataset(Dataset):\n",
        "    def __init__(self, dataframe, tokenizer, max_len):\n",
        "        self.dataframe = dataframe\n",
        "        self.tokenizer = tokenizer\n",
        "        self.max_len = max_len\n",
        "\n",
        "    def __len__(self):\n",
        "        return len(self.dataframe)\n",
        "\n",
        "    def __getitem__(self, idx):\n",
        "        row = self.dataframe.iloc[idx]\n",
        "        sentence1 = row['sentence1']\n",
        "        sentence2 = row['sentence2']\n",
        "        label = row['label']\n",
        "\n",
        "        encoding1 = self.tokenizer(sentence1, truncation=True, padding='max_length', max_length=self.max_len, return_tensors=\"pt\")\n",
        "        encoding2 = self.tokenizer(sentence2, truncation=True, padding='max_length', max_length=self.max_len, return_tensors=\"pt\")\n",
        "\n",
        "        return {\n",
        "            'input_ids1': encoding1['input_ids'].squeeze(0),\n",
        "            'attention_mask1': encoding1['attention_mask'].squeeze(0),\n",
        "            'input_ids2': encoding2['input_ids'].squeeze(0),\n",
        "            'attention_mask2': encoding2['attention_mask'].squeeze(0),\n",
        "            'label': torch.tensor(label, dtype=torch.float)\n",
        "        }\n",
        "\n",
        "\n",
        "class TwoBranchModel(nn.Module):\n",
        "    def __init__(self):\n",
        "        super(TwoBranchModel, self).__init__()\n",
        "        self.distilbert = DistilBertModel.from_pretrained(\"distilbert-base-uncased\")\n",
        "        self.hidden_size = self.distilbert.config.hidden_size\n",
        "\n",
        "        self.fc = nn.Sequential(\n",
        "            nn.Linear(self.hidden_size * 4, 128),\n",
        "            nn.ReLU(),\n",
        "            nn.Dropout(0.3),\n",
        "            nn.Linear(128, 1),\n",
        "            nn.Sigmoid()\n",
        "        )\n",
        "\n",
        "    def forward(self, input_ids1, attention_mask1, input_ids2, attention_mask2):\n",
        "        h1 = self.distilbert(input_ids=input_ids1, attention_mask=attention_mask1).last_hidden_state[:, 0, :]\n",
        "        h2 = self.distilbert(input_ids=input_ids2, attention_mask=attention_mask2).last_hidden_state[:, 0, :]\n",
        "\n",
        "        combined = torch.cat([h1, h2, torch.abs(h1 - h2), h1 * h2], dim=1)\n",
        "        output = self.fc(combined)\n",
        "        return output\n"
      ]
    },
    {
      "cell_type": "code",
      "execution_count": 15,
      "metadata": {
        "colab": {
          "base_uri": "https://localhost:8080/"
        },
        "id": "zQFdRtq2Hzch",
        "outputId": "3b99392e-2355-4277-c804-2f0891b50857"
      },
      "outputs": [
        {
          "name": "stdout",
          "output_type": "stream",
          "text": [
            "Epoch 1, Train Loss: 0.6947\n",
            "Epoch 2, Train Loss: 0.6823\n",
            "Epoch 3, Train Loss: 0.6384\n",
            "Epoch 4, Train Loss: 0.4870\n",
            "Epoch 5, Train Loss: 0.3268\n"
          ]
        }
      ],
      "source": [
        "tokenizer = DistilBertTokenizer.from_pretrained(\"distilbert-base-uncased\")\n",
        "max_len = 128\n",
        "batch_size = 16\n",
        "\n",
        "dataset = SentenceDataset(sentence_df, tokenizer, max_len)\n",
        "train_size = int(0.8 * len(dataset))\n",
        "val_size = len(dataset) - train_size\n",
        "\n",
        "train_dataset, val_dataset = torch.utils.data.random_split(dataset, [train_size, val_size])\n",
        "train_loader = DataLoader(train_dataset, batch_size=batch_size, shuffle=True)\n",
        "val_loader = DataLoader(val_dataset, batch_size=batch_size)\n",
        "\n",
        "# Initialize model, loss, and optimizer\n",
        "model = TwoBranchModel().to(device)\n",
        "criterion = nn.BCELoss()\n",
        "optimizer = torch.optim.Adam(model.parameters(), lr=2e-5)\n",
        "\n",
        "# Training loop\n",
        "epochs = 5\n",
        "for epoch in range(epochs):\n",
        "    model.train()\n",
        "    train_loss = 0\n",
        "    for batch in train_loader:\n",
        "        input_ids1 = batch['input_ids1'].to(device)\n",
        "        attention_mask1 = batch['attention_mask1'].to(device)\n",
        "        input_ids2 = batch['input_ids2'].to(device)\n",
        "        attention_mask2 = batch['attention_mask2'].to(device)\n",
        "        labels = batch['label'].to(device)\n",
        "\n",
        "        optimizer.zero_grad()\n",
        "        outputs = model(input_ids1, attention_mask1, input_ids2, attention_mask2).squeeze()\n",
        "        loss = criterion(outputs, labels)\n",
        "        loss.backward()\n",
        "        optimizer.step()\n",
        "\n",
        "        train_loss += loss.item()\n",
        "\n",
        "    avg_train_loss = train_loss / len(train_loader)\n",
        "    print(f\"Epoch {epoch + 1}, Train Loss: {avg_train_loss:.4f}\")"
      ]
    },
    {
      "cell_type": "code",
      "execution_count": 17,
      "metadata": {
        "colab": {
          "base_uri": "https://localhost:8080/"
        },
        "id": "zS3y0zR-Inu2",
        "outputId": "52dc73c9-f711-4de7-93d4-bf805eebae8a"
      },
      "outputs": [
        {
          "data": {
            "text/plain": [
              "TwoBranchModel(\n",
              "  (distilbert): DistilBertModel(\n",
              "    (embeddings): Embeddings(\n",
              "      (word_embeddings): Embedding(30522, 768, padding_idx=0)\n",
              "      (position_embeddings): Embedding(512, 768)\n",
              "      (LayerNorm): LayerNorm((768,), eps=1e-12, elementwise_affine=True)\n",
              "      (dropout): Dropout(p=0.1, inplace=False)\n",
              "    )\n",
              "    (transformer): Transformer(\n",
              "      (layer): ModuleList(\n",
              "        (0-5): 6 x TransformerBlock(\n",
              "          (attention): DistilBertSdpaAttention(\n",
              "            (dropout): Dropout(p=0.1, inplace=False)\n",
              "            (q_lin): Linear(in_features=768, out_features=768, bias=True)\n",
              "            (k_lin): Linear(in_features=768, out_features=768, bias=True)\n",
              "            (v_lin): Linear(in_features=768, out_features=768, bias=True)\n",
              "            (out_lin): Linear(in_features=768, out_features=768, bias=True)\n",
              "          )\n",
              "          (sa_layer_norm): LayerNorm((768,), eps=1e-12, elementwise_affine=True)\n",
              "          (ffn): FFN(\n",
              "            (dropout): Dropout(p=0.1, inplace=False)\n",
              "            (lin1): Linear(in_features=768, out_features=3072, bias=True)\n",
              "            (lin2): Linear(in_features=3072, out_features=768, bias=True)\n",
              "            (activation): GELUActivation()\n",
              "          )\n",
              "          (output_layer_norm): LayerNorm((768,), eps=1e-12, elementwise_affine=True)\n",
              "        )\n",
              "      )\n",
              "    )\n",
              "  )\n",
              "  (fc): Sequential(\n",
              "    (0): Linear(in_features=3072, out_features=128, bias=True)\n",
              "    (1): ReLU()\n",
              "    (2): Dropout(p=0.3, inplace=False)\n",
              "    (3): Linear(in_features=128, out_features=1, bias=True)\n",
              "    (4): Sigmoid()\n",
              "  )\n",
              ")"
            ]
          },
          "execution_count": 17,
          "metadata": {},
          "output_type": "execute_result"
        }
      ],
      "source": [
        "import numpy as np\n",
        "def evaluate_model(model, val_loader):\n",
        "    model.eval()\n",
        "    all_preds = []\n",
        "    all_labels = []\n",
        "    thresholds = np.arange(0.1, 1.0, 0.1)\n",
        "    results = {}\n",
        "\n",
        "    with torch.no_grad():\n",
        "        for batch in val_loader:\n",
        "            input_ids1 = batch['input_ids1'].to(device)\n",
        "            attention_mask1 = batch['attention_mask1'].to(device)\n",
        "            input_ids2 = batch['input_ids2'].to(device)\n",
        "            attention_mask2 = batch['attention_mask2'].to(device)\n",
        "            labels = batch['label'].to(device)\n",
        "\n",
        "            outputs = model(input_ids1, attention_mask1, input_ids2, attention_mask2).squeeze()\n",
        "            all_labels.extend(labels.cpu().numpy())\n",
        "            all_preds.append(outputs.cpu().numpy())\n",
        "\n",
        "    all_preds = np.concatenate(all_preds)\n",
        "    all_labels = np.array(all_labels)\n",
        "\n",
        "    for threshold in thresholds:\n",
        "        binary_preds = (all_preds > threshold).astype(float)\n",
        "        accuracy = accuracy_score(all_labels, binary_preds)\n",
        "        conf_matrix = confusion_matrix(all_labels, binary_preds)\n",
        "        results[threshold] = (accuracy, conf_matrix)\n",
        "\n",
        "    return results\n",
        "\n",
        "model.eval()\n",
        "\n"
      ]
    },
    {
      "cell_type": "code",
      "execution_count": 18,
      "metadata": {
        "id": "ncGliZRiJBLX"
      },
      "outputs": [],
      "source": [
        "from sklearn.metrics import accuracy_score, f1_score, classification_report,confusion_matrix\n",
        "result = evaluate_model(model, val_loader)"
      ]
    },
    {
      "cell_type": "code",
      "execution_count": 19,
      "metadata": {
        "colab": {
          "base_uri": "https://localhost:8080/"
        },
        "id": "DXO4Rn3vLvsC",
        "outputId": "a79b5c1f-c7cc-47ed-9bc7-ae0fcfc158ba"
      },
      "outputs": [
        {
          "data": {
            "text/plain": [
              "{0.1: (0.49833333333333335,\n",
              "  array([[ 59, 229],\n",
              "         [ 72, 240]])),\n",
              " 0.2: (0.5016666666666667,\n",
              "  array([[ 93, 195],\n",
              "         [104, 208]])),\n",
              " 0.30000000000000004: (0.515,\n",
              "  array([[125, 163],\n",
              "         [128, 184]])),\n",
              " 0.4: (0.515,\n",
              "  array([[147, 141],\n",
              "         [150, 162]])),\n",
              " 0.5: (0.5233333333333333,\n",
              "  array([[172, 116],\n",
              "         [170, 142]])),\n",
              " 0.6: (0.5133333333333333,\n",
              "  array([[187, 101],\n",
              "         [191, 121]])),\n",
              " 0.7000000000000001: (0.5066666666666667,\n",
              "  array([[207,  81],\n",
              "         [215,  97]])),\n",
              " 0.8: (0.5083333333333333,\n",
              "  array([[233,  55],\n",
              "         [240,  72]])),\n",
              " 0.9: (0.5083333333333333,\n",
              "  array([[266,  22],\n",
              "         [273,  39]]))}"
            ]
          },
          "execution_count": 19,
          "metadata": {},
          "output_type": "execute_result"
        }
      ],
      "source": [
        "result"
      ]
    },
    {
      "cell_type": "markdown",
      "metadata": {
        "id": "jkWG7E2JNkHo"
      },
      "source": [
        "Cross attention model"
      ]
    },
    {
      "cell_type": "code",
      "execution_count": 20,
      "metadata": {
        "id": "lgzwbaUSLxrz"
      },
      "outputs": [],
      "source": [
        "class CrossTwoBranchModel(nn.Module):\n",
        "    def __init__(self, hidden_size=768, num_heads=8):\n",
        "        super(CrossTwoBranchModel, self).__init__()\n",
        "        self.distilbert = DistilBertModel.from_pretrained(\"distilbert-base-uncased\")\n",
        "        self.hidden_size = hidden_size\n",
        "\n",
        "        # Cross-Attention Mechanism\n",
        "        self.cross_attention = nn.MultiheadAttention(embed_dim=hidden_size, num_heads=num_heads, batch_first=True)\n",
        "\n",
        "        # Fully Connected Layers\n",
        "        self.fc = nn.Sequential(\n",
        "            nn.Linear(hidden_size * 4, 256),\n",
        "            nn.ReLU(),\n",
        "            nn.Dropout(0.3),\n",
        "            nn.Linear(256, 128),\n",
        "            nn.ReLU(),\n",
        "            nn.Linear(128, 1),\n",
        "            nn.Sigmoid()\n",
        "        )\n",
        "\n",
        "    def forward(self, input_ids1, attention_mask1, input_ids2, attention_mask2):\n",
        "        # Get embeddings from DistilBERT\n",
        "        outputs1 = self.distilbert(input_ids=input_ids1, attention_mask=attention_mask1)\n",
        "        outputs2 = self.distilbert(input_ids=input_ids2, attention_mask=attention_mask2)\n",
        "\n",
        "        h1 = outputs1.last_hidden_state  # [batch_size, seq_len, hidden_size]\n",
        "        h2 = outputs2.last_hidden_state  # [batch_size, seq_len, hidden_size]\n",
        "\n",
        "        # Cross-Attention\n",
        "        attended_h1, _ = self.cross_attention(h1, h2, h2)  # h1 attending to h2\n",
        "        attended_h2, _ = self.cross_attention(h2, h1, h1)  # h2 attending to h1\n",
        "\n",
        "        # Pooling (Take [CLS] token representation after attention)\n",
        "        h1_cls = attended_h1[:, 0, :]  # First token from attended_h1\n",
        "        h2_cls = attended_h2[:, 0, :]  # First token from attended_h2\n",
        "\n",
        "        # Combine features\n",
        "        combined = torch.cat([h1_cls, h2_cls, torch.abs(h1_cls - h2_cls), h1_cls * h2_cls], dim=1)\n",
        "\n",
        "        # Classification\n",
        "        output = self.fc(combined)\n",
        "        return output\n"
      ]
    },
    {
      "cell_type": "code",
      "execution_count": 21,
      "metadata": {
        "colab": {
          "base_uri": "https://localhost:8080/"
        },
        "id": "oIp3w5zqNqnK",
        "outputId": "e7a02291-4e8c-4635-978b-544225c5c029"
      },
      "outputs": [
        {
          "name": "stdout",
          "output_type": "stream",
          "text": [
            "Epoch 1, Train Loss: 0.3939\n",
            "Epoch 2, Train Loss: 0.2617\n",
            "Epoch 3, Train Loss: 0.1978\n",
            "Epoch 4, Train Loss: 0.1543\n",
            "Epoch 5, Train Loss: 0.1233\n"
          ]
        }
      ],
      "source": [
        "\n",
        "# Initialize tokenizer, dataset, and dataloaders\n",
        "tokenizer = DistilBertTokenizer.from_pretrained(\"distilbert-base-uncased\")\n",
        "max_len = 128\n",
        "batch_size = 16\n",
        "\n",
        "dataset = SentenceDataset(sentence_df, tokenizer, max_len)\n",
        "train_size = int(0.8 * len(dataset))\n",
        "val_size = len(dataset) - train_size\n",
        "\n",
        "train_dataset, val_dataset = torch.utils.data.random_split(dataset, [train_size, val_size])\n",
        "train_loader = DataLoader(train_dataset, batch_size=batch_size, shuffle=True)\n",
        "val_loader = DataLoader(val_dataset, batch_size=batch_size)\n",
        "\n",
        "# Initialize model, loss, and optimizer\n",
        "model_2 = CrossTwoBranchModel().to(device)\n",
        "criterion = nn.BCELoss()\n",
        "optimizer = torch.optim.Adam(model.parameters(), lr=2e-5)\n",
        "\n",
        "# Training loop\n",
        "epochs = 5\n",
        "for epoch in range(epochs):\n",
        "    model.train()\n",
        "    train_loss = 0\n",
        "    for batch in train_loader:\n",
        "        input_ids1 = batch['input_ids1'].to(device)\n",
        "        attention_mask1 = batch['attention_mask1'].to(device)\n",
        "        input_ids2 = batch['input_ids2'].to(device)\n",
        "        attention_mask2 = batch['attention_mask2'].to(device)\n",
        "        labels = batch['label'].to(device)\n",
        "\n",
        "        optimizer.zero_grad()\n",
        "        outputs = model(input_ids1, attention_mask1, input_ids2, attention_mask2).squeeze()\n",
        "        loss = criterion(outputs, labels)\n",
        "        loss.backward()\n",
        "        optimizer.step()\n",
        "\n",
        "        train_loss += loss.item()\n",
        "\n",
        "    avg_train_loss = train_loss / len(train_loader)\n",
        "    print(f\"Epoch {epoch + 1}, Train Loss: {avg_train_loss:.4f}\")"
      ]
    },
    {
      "cell_type": "code",
      "execution_count": 22,
      "metadata": {
        "colab": {
          "base_uri": "https://localhost:8080/"
        },
        "id": "0BQav9ilN5rq",
        "outputId": "5b466eff-dae2-42c4-aa76-f7fd98688ed1"
      },
      "outputs": [
        {
          "name": "stdout",
          "output_type": "stream",
          "text": [
            "{0.1: (0.5283333333333333, array([[  0, 283],\n",
            "       [  0, 317]])), 0.2: (0.5283333333333333, array([[  0, 283],\n",
            "       [  0, 317]])), 0.30000000000000004: (0.5283333333333333, array([[  0, 283],\n",
            "       [  0, 317]])), 0.4: (0.5283333333333333, array([[  0, 283],\n",
            "       [  0, 317]])), 0.5: (0.5283333333333333, array([[  0, 283],\n",
            "       [  0, 317]])), 0.6: (0.4716666666666667, array([[283,   0],\n",
            "       [317,   0]])), 0.7000000000000001: (0.4716666666666667, array([[283,   0],\n",
            "       [317,   0]])), 0.8: (0.4716666666666667, array([[283,   0],\n",
            "       [317,   0]])), 0.9: (0.4716666666666667, array([[283,   0],\n",
            "       [317,   0]]))}\n"
          ]
        }
      ],
      "source": [
        "result = evaluate_model(model_2, val_loader)\n",
        "print(result)"
      ]
    },
    {
      "cell_type": "code",
      "execution_count": 23,
      "metadata": {
        "colab": {
          "base_uri": "https://localhost:8080/"
        },
        "id": "KCk2amIiHnGM",
        "outputId": "d934181e-92e8-4df0-ed20-6a899eaa2938"
      },
      "outputs": [
        {
          "name": "stdout",
          "output_type": "stream",
          "text": [
            "      id                                          sentence1  \\\n",
            "0  42637  The Nelson River flows from Lake Winnipeg to P...   \n",
            "1  10132  On 13 October 2010 , the Atlanta Braves announ...   \n",
            "2  44443  The localized versions of subsequent games use...   \n",
            "3  22636  Lord Stair married Emily Mary Julia Stonor , d...   \n",
            "4  29404  Proteins that form stable complexes with bindi...   \n",
            "\n",
            "                                           sentence2  label  \n",
            "0  The Nelson River flows into Playgreen Lake fro...      1  \n",
            "1  On October 13 , 2010 , the Atlanta Braves anno...      0  \n",
            "2  The localized versions of subsequent games use...      1  \n",
            "3  In 2006 , Lord Stair married Elizabeth Mary Hy...      0  \n",
            "4  Proteins that form stable complexes with bindi...      1  \n",
            "label\n",
            "1    1500\n",
            "0    1500\n",
            "Name: count, dtype: int64\n"
          ]
        }
      ],
      "source": [
        "df_0 = df[df['label'] == 0].sample(n=1500, random_state=42)\n",
        "df_1 = df[df['label'] == 1].sample(n=1500, random_state=42)\n",
        "\n",
        "sentence_df = pd.concat([df_0, df_1]).sample(frac=1, random_state=42).reset_index(drop=True)\n",
        "\n",
        "print(sentence_df.head())\n",
        "print(sentence_df['label'].value_counts())\n"
      ]
    },
    {
      "cell_type": "code",
      "execution_count": null,
      "metadata": {
        "id": "-X4wQ2BgOszK"
      },
      "outputs": [],
      "source": [
        "tokenizer = DistilBertTokenizer.from_pretrained(\"distilbert-base-uncased\")\n",
        "model = DistilBertModel.from_pretrained(\"distilbert-base-uncased\")\n",
        "model.eval()  # Set the model to evaluation mode\n",
        "\n",
        "# Function to get sentence embeddings\n",
        "def get_embeddings(sentences):\n",
        "    inputs = tokenizer(sentences, padding=True, truncation=True, return_tensors=\"pt\")\n",
        "    with torch.no_grad():\n",
        "        outputs = model(**inputs)\n",
        "    # Use the [CLS] token representation\n",
        "    return outputs.last_hidden_state[:, 0, :].numpy()\n",
        "\n",
        "# Get embeddings for both sentences\n",
        "sentence1_embeddings = get_embeddings(sentence_df[\"sentence1\"].tolist())\n",
        "sentence2_embeddings = get_embeddings(sentence_df[\"sentence2\"].tolist())\n"
      ]
    },
    {
      "cell_type": "code",
      "execution_count": 27,
      "metadata": {
        "colab": {
          "base_uri": "https://localhost:8080/",
          "height": 1000
        },
        "id": "aNcNbhGpPE3z",
        "outputId": "49722f75-630d-4ac1-ccce-7cf7e7568ee3"
      },
      "outputs": [
        {
          "data": {
            "image/png": "[encoded data removed]",
            "text/plain": [
              "<Figure size 1000x600 with 1 Axes>"
            ]
          },
          "metadata": {},
          "output_type": "display_data"
        },
        {
          "data": {
            "image/png": "[encoded data removed]",
            "text/plain": [
              "<Figure size 1000x600 with 1 Axes>"
            ]
          },
          "metadata": {},
          "output_type": "display_data"
        }
      ],
      "source": [
        "from sklearn.metrics.pairwise import cosine_similarity\n",
        "import matplotlib.pyplot as plt\n",
        "\n",
        "cos_sim = [cosine_similarity([s1], [s2])[0][0] for s1, s2 in zip(sentence1_embeddings, sentence2_embeddings)]\n",
        "avg_diff = [\n",
        "    torch.norm(torch.tensor(s1) - torch.tensor(s2)).item()\n",
        "    for s1, s2 in zip(sentence1_embeddings, sentence2_embeddings)\n",
        "]\n",
        "\n",
        "# Add these metrics to the DataFrame\n",
        "sentence_df[\"cosine_similarity\"] = cos_sim\n",
        "sentence_df[\"average_difference\"] = avg_diff\n",
        "\n",
        "# Separate by label for visualization\n",
        "label_0 = sentence_df[sentence_df[\"label\"] == 0]\n",
        "label_1 = sentence_df[sentence_df[\"label\"] == 1]\n",
        "\n",
        "# Plotting Cosine Similarity Distributions\n",
        "plt.figure(figsize=(10, 6))\n",
        "plt.hist(label_0[\"cosine_similarity\"], bins=30, alpha=0.7, label=\"Label 0 (Cosine Similarity)\", density=True)\n",
        "plt.hist(label_1[\"cosine_similarity\"], bins=30, alpha=0.7, label=\"Label 1 (Cosine Similarity)\", density=True)\n",
        "plt.title(\"Cosine Similarity Distribution by Label\")\n",
        "plt.xlabel(\"Cosine Similarity\")\n",
        "plt.ylabel(\"Density\")\n",
        "plt.legend()\n",
        "plt.show()\n",
        "\n",
        "# Plotting Average Difference Distributions\n",
        "plt.figure(figsize=(10, 6))\n",
        "plt.hist(label_0[\"average_difference\"], bins=30, alpha=0.7, label=\"Label 0 (Average Difference)\", density=True)\n",
        "plt.hist(label_1[\"average_difference\"], bins=30, alpha=0.7, label=\"Label 1 (Average Difference)\", density=True)\n",
        "plt.title(\"Average Difference Distribution by Label\")\n",
        "plt.xlabel(\"Average Difference\")\n",
        "plt.ylabel(\"Density\")\n",
        "plt.legend()\n",
        "plt.show()\n",
        "\n",
        "# Compute and return basic statistics for additional insights\n",
        "stats = {\n",
        "    \"label_0\": {\n",
        "        \"avg_cosine_similarity\": label_0[\"cosine_similarity\"].mean(),\n",
        "        \"avg_difference\": label_0[\"average_difference\"].mean(),\n",
        "    },\n",
        "    \"label_1\": {\n",
        "        \"avg_cosine_similarity\": label_1[\"cosine_similarity\"].mean(),\n",
        "        \"avg_difference\": label_1[\"average_difference\"].mean(),\n",
        "    },\n",
        "}"
      ]
    },
    {
      "cell_type": "code",
      "execution_count": null,
      "metadata": {
        "id": "6ZlYwrBTRkN3"
      },
      "outputs": [],
      "source": []
    }
  ],
  "metadata": {
    "accelerator": "GPU",
    "colab": {
      "gpuType": "T4",
      "provenance": []
    },
    "kernelspec": {
      "display_name": "Python 3",
      "name": "python3"
    },
    "language_info": {
      "name": "python"
    }
  },
  "nbformat": 4,
  "nbformat_minor": 0
}
